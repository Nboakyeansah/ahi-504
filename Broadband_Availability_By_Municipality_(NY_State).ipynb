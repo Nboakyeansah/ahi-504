{
  "nbformat": 4,
  "nbformat_minor": 0,
  "metadata": {
    "colab": {
      "name": "Broadband Availability By Municipality (NY State).ipynb",
      "provenance": [],
      "collapsed_sections": []
    },
    "kernelspec": {
      "name": "python3",
      "display_name": "Python 3"
    }
  },
  "cells": [
    {
      "cell_type": "code",
      "metadata": {
        "colab": {
          "resources": {
            "http://localhost:8080/nbextensions/google.colab/files.js": {
              "data": "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",
              "ok": true,
              "headers": [
                [
                  "content-type",
                  "application/javascript"
                ]
              ],
              "status": 200,
              "status_text": ""
            }
          },
          "base_uri": "https://localhost:8080/",
          "height": 72
        },
        "id": "KMoCdVkmvvg7",
        "outputId": "222ac08a-994b-46de-bfb0-c17011919167"
      },
      "source": [
        "from google.colab import files\n",
        "\n",
        "uploaded = files.upload()\n"
      ],
      "execution_count": null,
      "outputs": [
        {
          "output_type": "display_data",
          "data": {
            "text/html": [
              "\n",
              "     <input type=\"file\" id=\"files-36761d89-00da-46e1-a48e-79862f9c8909\" name=\"files[]\" multiple disabled\n",
              "        style=\"border:none\" />\n",
              "     <output id=\"result-36761d89-00da-46e1-a48e-79862f9c8909\">\n",
              "      Upload widget is only available when the cell has been executed in the\n",
              "      current browser session. Please rerun this cell to enable.\n",
              "      </output>\n",
              "      <script src=\"/nbextensions/google.colab/files.js\"></script> "
            ],
            "text/plain": [
              "<IPython.core.display.HTML object>"
            ]
          },
          "metadata": {
            "tags": []
          }
        },
        {
          "output_type": "stream",
          "text": [
            "Saving Broadband_Availability.csv to Broadband_Availability.csv\n"
          ],
          "name": "stdout"
        }
      ]
    },
    {
      "cell_type": "code",
      "metadata": {
        "colab": {
          "base_uri": "https://localhost:8080/",
          "height": 830
        },
        "id": "OFCVaA09wwdm",
        "outputId": "646bce92-ba53-462b-8885-551a7fb895d0"
      },
      "source": [
        "import io\n",
        "import pandas as pd\n",
        "import plotly.express as px\n",
        "df = pd.read_csv(io.BytesIO(uploaded['Broadband_Availability.csv']))\n",
        "df\n"
      ],
      "execution_count": null,
      "outputs": [
        {
          "output_type": "execute_result",
          "data": {
            "text/html": [
              "<div>\n",
              "<style scoped>\n",
              "    .dataframe tbody tr th:only-of-type {\n",
              "        vertical-align: middle;\n",
              "    }\n",
              "\n",
              "    .dataframe tbody tr th {\n",
              "        vertical-align: top;\n",
              "    }\n",
              "\n",
              "    .dataframe thead th {\n",
              "        text-align: right;\n",
              "    }\n",
              "</style>\n",
              "<table border=\"1\" class=\"dataframe\">\n",
              "  <thead>\n",
              "    <tr style=\"text-align: right;\">\n",
              "      <th></th>\n",
              "      <th>GNIS ID</th>\n",
              "      <th>Municipality Name</th>\n",
              "      <th>Municipality Type</th>\n",
              "      <th>2010 Muni Population</th>\n",
              "      <th>2010 Muni Housing Units</th>\n",
              "      <th>Muni Area (sq mi)</th>\n",
              "      <th>County</th>\n",
              "      <th>REDC Region</th>\n",
              "      <th># Cable Providers</th>\n",
              "      <th># Hse Units Cable</th>\n",
              "      <th>% Hse Units Cable</th>\n",
              "      <th># of DSL Providers</th>\n",
              "      <th># Hse Units DSL</th>\n",
              "      <th>% Hse Units DSL</th>\n",
              "      <th># Fiber Providers</th>\n",
              "      <th># Hse Units Fiber</th>\n",
              "      <th>% Hse Units Fiber</th>\n",
              "      <th># Wireline Providers</th>\n",
              "      <th># Hse Units Wireline</th>\n",
              "      <th>% Hse Units Wireline</th>\n",
              "      <th># Wireless Providers</th>\n",
              "      <th># Hse Units Wireless</th>\n",
              "      <th>% Hse Units Wireless</th>\n",
              "      <th># Satellite Providers</th>\n",
              "    </tr>\n",
              "  </thead>\n",
              "  <tbody>\n",
              "    <tr>\n",
              "      <th>0</th>\n",
              "      <td>978655</td>\n",
              "      <td>Adams</td>\n",
              "      <td>Town</td>\n",
              "      <td>5143</td>\n",
              "      <td>2126</td>\n",
              "      <td>42.4</td>\n",
              "      <td>Jefferson</td>\n",
              "      <td>North Country Region</td>\n",
              "      <td>1</td>\n",
              "      <td>1800</td>\n",
              "      <td>85</td>\n",
              "      <td>1</td>\n",
              "      <td>2000</td>\n",
              "      <td>94</td>\n",
              "      <td>1</td>\n",
              "      <td>0</td>\n",
              "      <td>0</td>\n",
              "      <td>3</td>\n",
              "      <td>2000</td>\n",
              "      <td>94</td>\n",
              "      <td>4</td>\n",
              "      <td>2000</td>\n",
              "      <td>94</td>\n",
              "      <td>4</td>\n",
              "    </tr>\n",
              "    <tr>\n",
              "      <th>1</th>\n",
              "      <td>942159</td>\n",
              "      <td>Adams</td>\n",
              "      <td>Village</td>\n",
              "      <td>1775</td>\n",
              "      <td>793</td>\n",
              "      <td>1.5</td>\n",
              "      <td>Jefferson</td>\n",
              "      <td>North Country Region</td>\n",
              "      <td>1</td>\n",
              "      <td>760</td>\n",
              "      <td>96</td>\n",
              "      <td>1</td>\n",
              "      <td>760</td>\n",
              "      <td>96</td>\n",
              "      <td>1</td>\n",
              "      <td>0</td>\n",
              "      <td>0</td>\n",
              "      <td>3</td>\n",
              "      <td>760</td>\n",
              "      <td>96</td>\n",
              "      <td>3</td>\n",
              "      <td>760</td>\n",
              "      <td>96</td>\n",
              "      <td>4</td>\n",
              "    </tr>\n",
              "    <tr>\n",
              "      <th>2</th>\n",
              "      <td>978656</td>\n",
              "      <td>Addison</td>\n",
              "      <td>Town</td>\n",
              "      <td>2595</td>\n",
              "      <td>1159</td>\n",
              "      <td>25.7</td>\n",
              "      <td>Steuben</td>\n",
              "      <td>Southern Tier Region</td>\n",
              "      <td>1</td>\n",
              "      <td>950</td>\n",
              "      <td>82</td>\n",
              "      <td>1</td>\n",
              "      <td>1000</td>\n",
              "      <td>86</td>\n",
              "      <td>1</td>\n",
              "      <td>0</td>\n",
              "      <td>0</td>\n",
              "      <td>3</td>\n",
              "      <td>1000</td>\n",
              "      <td>86</td>\n",
              "      <td>3</td>\n",
              "      <td>1100</td>\n",
              "      <td>95</td>\n",
              "      <td>4</td>\n",
              "    </tr>\n",
              "    <tr>\n",
              "      <th>3</th>\n",
              "      <td>942177</td>\n",
              "      <td>Addison</td>\n",
              "      <td>Village</td>\n",
              "      <td>1763</td>\n",
              "      <td>770</td>\n",
              "      <td>1.9</td>\n",
              "      <td>Steuben</td>\n",
              "      <td>Southern Tier Region</td>\n",
              "      <td>1</td>\n",
              "      <td>740</td>\n",
              "      <td>96</td>\n",
              "      <td>1</td>\n",
              "      <td>740</td>\n",
              "      <td>96</td>\n",
              "      <td>1</td>\n",
              "      <td>0</td>\n",
              "      <td>0</td>\n",
              "      <td>3</td>\n",
              "      <td>740</td>\n",
              "      <td>96</td>\n",
              "      <td>2</td>\n",
              "      <td>740</td>\n",
              "      <td>96</td>\n",
              "      <td>4</td>\n",
              "    </tr>\n",
              "    <tr>\n",
              "      <th>4</th>\n",
              "      <td>978657</td>\n",
              "      <td>Afton</td>\n",
              "      <td>Town</td>\n",
              "      <td>2851</td>\n",
              "      <td>1457</td>\n",
              "      <td>46.7</td>\n",
              "      <td>Chenango</td>\n",
              "      <td>Southern Tier Region</td>\n",
              "      <td>2</td>\n",
              "      <td>1100</td>\n",
              "      <td>75</td>\n",
              "      <td>2</td>\n",
              "      <td>1400</td>\n",
              "      <td>96</td>\n",
              "      <td>0</td>\n",
              "      <td>0</td>\n",
              "      <td>0</td>\n",
              "      <td>4</td>\n",
              "      <td>1400</td>\n",
              "      <td>96</td>\n",
              "      <td>6</td>\n",
              "      <td>1400</td>\n",
              "      <td>96</td>\n",
              "      <td>4</td>\n",
              "    </tr>\n",
              "    <tr>\n",
              "      <th>...</th>\n",
              "      <td>...</td>\n",
              "      <td>...</td>\n",
              "      <td>...</td>\n",
              "      <td>...</td>\n",
              "      <td>...</td>\n",
              "      <td>...</td>\n",
              "      <td>...</td>\n",
              "      <td>...</td>\n",
              "      <td>...</td>\n",
              "      <td>...</td>\n",
              "      <td>...</td>\n",
              "      <td>...</td>\n",
              "      <td>...</td>\n",
              "      <td>...</td>\n",
              "      <td>...</td>\n",
              "      <td>...</td>\n",
              "      <td>...</td>\n",
              "      <td>...</td>\n",
              "      <td>...</td>\n",
              "      <td>...</td>\n",
              "      <td>...</td>\n",
              "      <td>...</td>\n",
              "      <td>...</td>\n",
              "      <td>...</td>\n",
              "    </tr>\n",
              "    <tr>\n",
              "      <th>1630</th>\n",
              "      <td>979661</td>\n",
              "      <td>York</td>\n",
              "      <td>Town</td>\n",
              "      <td>3397</td>\n",
              "      <td>1368</td>\n",
              "      <td>49.0</td>\n",
              "      <td>Livingston</td>\n",
              "      <td>Finger Lakes Region</td>\n",
              "      <td>1</td>\n",
              "      <td>1000</td>\n",
              "      <td>73</td>\n",
              "      <td>1</td>\n",
              "      <td>1200</td>\n",
              "      <td>88</td>\n",
              "      <td>2</td>\n",
              "      <td>0</td>\n",
              "      <td>0</td>\n",
              "      <td>4</td>\n",
              "      <td>1200</td>\n",
              "      <td>88</td>\n",
              "      <td>5</td>\n",
              "      <td>1300</td>\n",
              "      <td>95</td>\n",
              "      <td>4</td>\n",
              "    </tr>\n",
              "    <tr>\n",
              "      <th>1631</th>\n",
              "      <td>979662</td>\n",
              "      <td>Yorkshire</td>\n",
              "      <td>Town</td>\n",
              "      <td>3913</td>\n",
              "      <td>1901</td>\n",
              "      <td>37.0</td>\n",
              "      <td>Cattaraugus</td>\n",
              "      <td>Western NY Region</td>\n",
              "      <td>1</td>\n",
              "      <td>1300</td>\n",
              "      <td>68</td>\n",
              "      <td>2</td>\n",
              "      <td>1500</td>\n",
              "      <td>79</td>\n",
              "      <td>1</td>\n",
              "      <td>0</td>\n",
              "      <td>0</td>\n",
              "      <td>4</td>\n",
              "      <td>1700</td>\n",
              "      <td>89</td>\n",
              "      <td>5</td>\n",
              "      <td>1800</td>\n",
              "      <td>95</td>\n",
              "      <td>4</td>\n",
              "    </tr>\n",
              "    <tr>\n",
              "      <th>1632</th>\n",
              "      <td>979663</td>\n",
              "      <td>Yorktown</td>\n",
              "      <td>Town</td>\n",
              "      <td>36081</td>\n",
              "      <td>13418</td>\n",
              "      <td>39.5</td>\n",
              "      <td>Westchester</td>\n",
              "      <td>Mid-Hudson Region</td>\n",
              "      <td>1</td>\n",
              "      <td>13000</td>\n",
              "      <td>97</td>\n",
              "      <td>2</td>\n",
              "      <td>12400</td>\n",
              "      <td>92</td>\n",
              "      <td>5</td>\n",
              "      <td>12300</td>\n",
              "      <td>92</td>\n",
              "      <td>7</td>\n",
              "      <td>13000</td>\n",
              "      <td>97</td>\n",
              "      <td>4</td>\n",
              "      <td>13000</td>\n",
              "      <td>97</td>\n",
              "      <td>4</td>\n",
              "    </tr>\n",
              "    <tr>\n",
              "      <th>1633</th>\n",
              "      <td>971840</td>\n",
              "      <td>Yorkville</td>\n",
              "      <td>Village</td>\n",
              "      <td>2689</td>\n",
              "      <td>1280</td>\n",
              "      <td>0.7</td>\n",
              "      <td>Oneida</td>\n",
              "      <td>Mohawk Valley Region</td>\n",
              "      <td>1</td>\n",
              "      <td>1200</td>\n",
              "      <td>94</td>\n",
              "      <td>1</td>\n",
              "      <td>1200</td>\n",
              "      <td>94</td>\n",
              "      <td>2</td>\n",
              "      <td>0</td>\n",
              "      <td>0</td>\n",
              "      <td>4</td>\n",
              "      <td>1200</td>\n",
              "      <td>94</td>\n",
              "      <td>4</td>\n",
              "      <td>1200</td>\n",
              "      <td>94</td>\n",
              "      <td>4</td>\n",
              "    </tr>\n",
              "    <tr>\n",
              "      <th>1634</th>\n",
              "      <td>971860</td>\n",
              "      <td>Youngstown</td>\n",
              "      <td>Village</td>\n",
              "      <td>1935</td>\n",
              "      <td>878</td>\n",
              "      <td>1.1</td>\n",
              "      <td>Niagara</td>\n",
              "      <td>Western NY Region</td>\n",
              "      <td>1</td>\n",
              "      <td>850</td>\n",
              "      <td>97</td>\n",
              "      <td>1</td>\n",
              "      <td>840</td>\n",
              "      <td>96</td>\n",
              "      <td>0</td>\n",
              "      <td>0</td>\n",
              "      <td>0</td>\n",
              "      <td>2</td>\n",
              "      <td>850</td>\n",
              "      <td>97</td>\n",
              "      <td>6</td>\n",
              "      <td>840</td>\n",
              "      <td>96</td>\n",
              "      <td>4</td>\n",
              "    </tr>\n",
              "  </tbody>\n",
              "</table>\n",
              "<p>1635 rows × 24 columns</p>\n",
              "</div>"
            ],
            "text/plain": [
              "      GNIS ID Municipality Name  ... % Hse Units Wireless  # Satellite Providers\n",
              "0      978655             Adams  ...                   94                      4\n",
              "1      942159             Adams  ...                   96                      4\n",
              "2      978656           Addison  ...                   95                      4\n",
              "3      942177           Addison  ...                   96                      4\n",
              "4      978657             Afton  ...                   96                      4\n",
              "...       ...               ...  ...                  ...                    ...\n",
              "1630   979661              York  ...                   95                      4\n",
              "1631   979662         Yorkshire  ...                   95                      4\n",
              "1632   979663          Yorktown  ...                   97                      4\n",
              "1633   971840         Yorkville  ...                   94                      4\n",
              "1634   971860        Youngstown  ...                   96                      4\n",
              "\n",
              "[1635 rows x 24 columns]"
            ]
          },
          "metadata": {
            "tags": []
          },
          "execution_count": 101
        }
      ]
    },
    {
      "cell_type": "code",
      "metadata": {
        "colab": {
          "base_uri": "https://localhost:8080/"
        },
        "id": "QqrfZ8jnLDPc",
        "outputId": "414464fc-b3a0-48a1-c8c8-db8be938e659"
      },
      "source": [
        "df['% Hse Units Fiber'] = df['% Hse Units Fiber'].astype(int)\n",
        "print (df)\n",
        "print (df.dtypes)"
      ],
      "execution_count": null,
      "outputs": [
        {
          "output_type": "stream",
          "text": [
            "      GNIS ID Municipality Name  ... % Hse Units Wireless  # Satellite Providers\n",
            "0      978655             Adams  ...                   94                      4\n",
            "1      942159             Adams  ...                   96                      4\n",
            "2      978656           Addison  ...                   95                      4\n",
            "3      942177           Addison  ...                   96                      4\n",
            "4      978657             Afton  ...                   96                      4\n",
            "...       ...               ...  ...                  ...                    ...\n",
            "1630   979661              York  ...                   95                      4\n",
            "1631   979662         Yorkshire  ...                   95                      4\n",
            "1632   979663          Yorktown  ...                   97                      4\n",
            "1633   971840         Yorkville  ...                   94                      4\n",
            "1634   971860        Youngstown  ...                   96                      4\n",
            "\n",
            "[1635 rows x 24 columns]\n",
            "GNIS ID                      int64\n",
            "Municipality Name           object\n",
            "Municipality Type           object\n",
            "2010 Muni Population         int64\n",
            "2010 Muni Housing Units      int64\n",
            "Muni Area (sq mi)          float64\n",
            "County                      object\n",
            "REDC Region                 object\n",
            "# Cable Providers            int64\n",
            "# Hse Units Cable            int64\n",
            "% Hse Units Cable            int64\n",
            "# of DSL Providers           int64\n",
            "# Hse Units DSL              int64\n",
            "% Hse Units DSL              int64\n",
            "# Fiber Providers            int64\n",
            "# Hse Units Fiber            int64\n",
            "% Hse Units Fiber            int64\n",
            "# Wireline Providers         int64\n",
            "# Hse Units Wireline         int64\n",
            "% Hse Units Wireline         int64\n",
            "# Wireless Providers         int64\n",
            "# Hse Units Wireless         int64\n",
            "% Hse Units Wireless         int64\n",
            "# Satellite Providers        int64\n",
            "dtype: object\n"
          ],
          "name": "stdout"
        }
      ]
    },
    {
      "cell_type": "code",
      "metadata": {
        "id": "9epWHNFPP4Rz"
      },
      "source": [
        "import matplotlib.pyplot as plt"
      ],
      "execution_count": null,
      "outputs": []
    },
    {
      "cell_type": "code",
      "metadata": {
        "id": "PZsi-P3pASKc",
        "colab": {
          "base_uri": "https://localhost:8080/"
        },
        "outputId": "69a7e322-4419-425b-afe4-84d8628009a5"
      },
      "source": [
        "df['GNIS ID'].value_counts()"
      ],
      "execution_count": null,
      "outputs": [
        {
          "output_type": "execute_result",
          "data": {
            "text/plain": [
              "978942    1\n",
              "974105    1\n",
              "979378    1\n",
              "965893    1\n",
              "978943    1\n",
              "         ..\n",
              "979377    1\n",
              "979379    1\n",
              "979381    1\n",
              "979383    1\n",
              "978944    1\n",
              "Name: GNIS ID, Length: 1635, dtype: int64"
            ]
          },
          "metadata": {
            "tags": []
          },
          "execution_count": 104
        }
      ]
    },
    {
      "cell_type": "code",
      "metadata": {
        "colab": {
          "base_uri": "https://localhost:8080/"
        },
        "id": "_v9fbOW2xHDq",
        "outputId": "386d9b14-3548-477e-91d0-ffa9c4417fb5"
      },
      "source": [
        "df ['# Hse Units Wireline']. value_counts ()"
      ],
      "execution_count": null,
      "outputs": [
        {
          "output_type": "execute_result",
          "data": {
            "text/plain": [
              "1000      53\n",
              "1200      47\n",
              "1100      46\n",
              "1400      37\n",
              "1800      35\n",
              "          ..\n",
              "7100       1\n",
              "44900      1\n",
              "132000     1\n",
              "17300      1\n",
              "94200      1\n",
              "Name: # Hse Units Wireline, Length: 318, dtype: int64"
            ]
          },
          "metadata": {
            "tags": []
          },
          "execution_count": 105
        }
      ]
    },
    {
      "cell_type": "code",
      "metadata": {
        "colab": {
          "base_uri": "https://localhost:8080/"
        },
        "id": "bZ8uexHbyTFA",
        "outputId": "5eae8f3a-d058-44b5-87a7-0042b0a93b1f"
      },
      "source": [
        "df ['% Hse Units Wireline']. value_counts ()"
      ],
      "execution_count": null,
      "outputs": [
        {
          "output_type": "execute_result",
          "data": {
            "text/plain": [
              "96    342\n",
              "97    274\n",
              "95    213\n",
              "94    150\n",
              "93    108\n",
              "     ... \n",
              "52      1\n",
              "33      1\n",
              "34      1\n",
              "36      1\n",
              "32      1\n",
              "Name: % Hse Units Wireline, Length: 73, dtype: int64"
            ]
          },
          "metadata": {
            "tags": []
          },
          "execution_count": 106
        }
      ]
    },
    {
      "cell_type": "code",
      "metadata": {
        "colab": {
          "base_uri": "https://localhost:8080/"
        },
        "id": "iX6BmLW4-iWU",
        "outputId": "42368155-c966-43ae-95f6-76c07b491cef"
      },
      "source": [
        "df ['# Fiber Providers']. value_counts ()"
      ],
      "execution_count": null,
      "outputs": [
        {
          "output_type": "execute_result",
          "data": {
            "text/plain": [
              "0     667\n",
              "1     422\n",
              "2     228\n",
              "3     135\n",
              "4     104\n",
              "5      45\n",
              "6      18\n",
              "8       5\n",
              "7       4\n",
              "9       3\n",
              "31      1\n",
              "12      1\n",
              "11      1\n",
              "10      1\n",
              "Name: # Fiber Providers, dtype: int64"
            ]
          },
          "metadata": {
            "tags": []
          },
          "execution_count": 107
        }
      ]
    },
    {
      "cell_type": "code",
      "metadata": {
        "id": "1yL7k5IE6R_j",
        "colab": {
          "base_uri": "https://localhost:8080/"
        },
        "outputId": "5c2e7ba4-8f3c-42b6-d157-48b653d9acb2"
      },
      "source": [
        "df ['# Hse Units Fiber']. value_counts ()"
      ],
      "execution_count": null,
      "outputs": [
        {
          "output_type": "execute_result",
          "data": {
            "text/plain": [
              "0         1234\n",
              "1200        11\n",
              "1100        10\n",
              "1500         8\n",
              "2100         7\n",
              "          ... \n",
              "580          1\n",
              "341000       1\n",
              "9200         1\n",
              "8800         1\n",
              "10200        1\n",
              "Name: # Hse Units Fiber, Length: 200, dtype: int64"
            ]
          },
          "metadata": {
            "tags": []
          },
          "execution_count": 108
        }
      ]
    },
    {
      "cell_type": "code",
      "metadata": {
        "colab": {
          "base_uri": "https://localhost:8080/"
        },
        "id": "Pxxkz5KK6IAT",
        "outputId": "94239348-bc12-4c7e-8d1d-56caf730db6f"
      },
      "source": [
        "df ['% Hse Units Fiber']. value_counts ()"
      ],
      "execution_count": null,
      "outputs": [
        {
          "output_type": "execute_result",
          "data": {
            "text/plain": [
              "0     1240\n",
              "96      54\n",
              "95      40\n",
              "94      26\n",
              "92      20\n",
              "      ... \n",
              "67       1\n",
              "37       1\n",
              "64       1\n",
              "41       1\n",
              "45       1\n",
              "Name: % Hse Units Fiber, Length: 88, dtype: int64"
            ]
          },
          "metadata": {
            "tags": []
          },
          "execution_count": 109
        }
      ]
    },
    {
      "cell_type": "code",
      "metadata": {
        "colab": {
          "base_uri": "https://localhost:8080/"
        },
        "id": "oFSJH0cg-W_s",
        "outputId": "b1809e1e-56bc-42ec-8bce-5bbbf62fd846"
      },
      "source": [
        "df ['# of DSL Providers']. value_counts ()"
      ],
      "execution_count": null,
      "outputs": [
        {
          "output_type": "execute_result",
          "data": {
            "text/plain": [
              "1     971\n",
              "2     504\n",
              "3      71\n",
              "0      59\n",
              "4      12\n",
              "5       5\n",
              "6       4\n",
              "7       3\n",
              "9       2\n",
              "8       2\n",
              "38      1\n",
              "12      1\n",
              "Name: # of DSL Providers, dtype: int64"
            ]
          },
          "metadata": {
            "tags": []
          },
          "execution_count": 110
        }
      ]
    },
    {
      "cell_type": "code",
      "metadata": {
        "colab": {
          "base_uri": "https://localhost:8080/"
        },
        "id": "PWM6qJsh-Cez",
        "outputId": "bd85aefa-5d40-4800-a8a7-14f0bbec3a83"
      },
      "source": [
        "df ['# Hse Units DSL']. value_counts ()"
      ],
      "execution_count": null,
      "outputs": [
        {
          "output_type": "execute_result",
          "data": {
            "text/plain": [
              "0         82\n",
              "1000      48\n",
              "1100      44\n",
              "1200      35\n",
              "1500      34\n",
              "          ..\n",
              "517000     1\n",
              "451000     1\n",
              "25500      1\n",
              "17300      1\n",
              "31100      1\n",
              "Name: # Hse Units DSL, Length: 315, dtype: int64"
            ]
          },
          "metadata": {
            "tags": []
          },
          "execution_count": 111
        }
      ]
    },
    {
      "cell_type": "code",
      "metadata": {
        "colab": {
          "base_uri": "https://localhost:8080/"
        },
        "id": "38oQl6Na-NNp",
        "outputId": "e90857a7-f81c-4bc3-d3ba-a7e52b80c30a"
      },
      "source": [
        "df ['% Hse Units DSL']. value_counts ()"
      ],
      "execution_count": null,
      "outputs": [
        {
          "output_type": "execute_result",
          "data": {
            "text/plain": [
              "96    201\n",
              "95    127\n",
              "97    116\n",
              "94    104\n",
              "93     97\n",
              "     ... \n",
              "27      1\n",
              "12      1\n",
              "26      1\n",
              "14      1\n",
              "50      1\n",
              "Name: % Hse Units DSL, Length: 94, dtype: int64"
            ]
          },
          "metadata": {
            "tags": []
          },
          "execution_count": 112
        }
      ]
    },
    {
      "cell_type": "code",
      "metadata": {
        "colab": {
          "base_uri": "https://localhost:8080/"
        },
        "id": "oiSBJST2yb14",
        "outputId": "d870bb66-b66b-48d8-8820-8124b5acaba3"
      },
      "source": [
        "df ['County']. value_counts ()"
      ],
      "execution_count": null,
      "outputs": [
        {
          "output_type": "execute_result",
          "data": {
            "text/plain": [
              "Nassau                                        70\n",
              "Cattaraugus                                   50\n",
              "Westchester                                   49\n",
              "Oneida                                        49\n",
              "Steuben                                       48\n",
              "                                              ..\n",
              "CAYU, CORT, MADI, ONON, OSWE                   1\n",
              "BRON, KING, NEW, QUEE, RICH                    1\n",
              "NASS, SUFF                                     1\n",
              "DUTC, ORAN, PUTN, ROCK, SULL, ULST, WEST       1\n",
              "ALLE, CATT, CHAU, ERIE, NIAG                   1\n",
              "Name: County, Length: 72, dtype: int64"
            ]
          },
          "metadata": {
            "tags": []
          },
          "execution_count": 113
        }
      ]
    },
    {
      "cell_type": "code",
      "metadata": {
        "id": "pTfK1ifP4d1K",
        "colab": {
          "base_uri": "https://localhost:8080/"
        },
        "outputId": "f460e2f1-e258-4ad0-de90-23637d910744"
      },
      "source": [
        "df ['Municipality Type']. value_counts ()"
      ],
      "execution_count": null,
      "outputs": [
        {
          "output_type": "execute_result",
          "data": {
            "text/plain": [
              "Town                           932\n",
              "Village                        555\n",
              "County                          62\n",
              "City                            61\n",
              "Economic Development Region     10\n",
              "Tribal Community                 9\n",
              "Borough                          5\n",
              "Statewide                        1\n",
              "Name: Municipality Type, dtype: int64"
            ]
          },
          "metadata": {
            "tags": []
          },
          "execution_count": 114
        }
      ]
    },
    {
      "cell_type": "code",
      "metadata": {
        "colab": {
          "base_uri": "https://localhost:8080/",
          "height": 796
        },
        "id": "mNBzKgyqy5zq",
        "outputId": "a7b8dc70-96b2-4390-e02c-7720f0d3cc47"
      },
      "source": [
        "city = df[df['Municipality Type'] == 'City']\n",
        "city"
      ],
      "execution_count": null,
      "outputs": [
        {
          "output_type": "execute_result",
          "data": {
            "text/html": [
              "<div>\n",
              "<style scoped>\n",
              "    .dataframe tbody tr th:only-of-type {\n",
              "        vertical-align: middle;\n",
              "    }\n",
              "\n",
              "    .dataframe tbody tr th {\n",
              "        vertical-align: top;\n",
              "    }\n",
              "\n",
              "    .dataframe thead th {\n",
              "        text-align: right;\n",
              "    }\n",
              "</style>\n",
              "<table border=\"1\" class=\"dataframe\">\n",
              "  <thead>\n",
              "    <tr style=\"text-align: right;\">\n",
              "      <th></th>\n",
              "      <th>GNIS ID</th>\n",
              "      <th>Municipality Name</th>\n",
              "      <th>Municipality Type</th>\n",
              "      <th>2010 Muni Population</th>\n",
              "      <th>2010 Muni Housing Units</th>\n",
              "      <th>Muni Area (sq mi)</th>\n",
              "      <th>County</th>\n",
              "      <th>REDC Region</th>\n",
              "      <th># Cable Providers</th>\n",
              "      <th># Hse Units Cable</th>\n",
              "      <th>% Hse Units Cable</th>\n",
              "      <th># of DSL Providers</th>\n",
              "      <th># Hse Units DSL</th>\n",
              "      <th>% Hse Units DSL</th>\n",
              "      <th># Fiber Providers</th>\n",
              "      <th># Hse Units Fiber</th>\n",
              "      <th>% Hse Units Fiber</th>\n",
              "      <th># Wireline Providers</th>\n",
              "      <th># Hse Units Wireline</th>\n",
              "      <th>% Hse Units Wireline</th>\n",
              "      <th># Wireless Providers</th>\n",
              "      <th># Hse Units Wireless</th>\n",
              "      <th>% Hse Units Wireless</th>\n",
              "      <th># Satellite Providers</th>\n",
              "    </tr>\n",
              "  </thead>\n",
              "  <tbody>\n",
              "    <tr>\n",
              "      <th>9</th>\n",
              "      <td>978659</td>\n",
              "      <td>Albany</td>\n",
              "      <td>City</td>\n",
              "      <td>97856</td>\n",
              "      <td>46362</td>\n",
              "      <td>21.9</td>\n",
              "      <td>Albany</td>\n",
              "      <td>Capital Region</td>\n",
              "      <td>1</td>\n",
              "      <td>44900</td>\n",
              "      <td>97</td>\n",
              "      <td>1</td>\n",
              "      <td>44600</td>\n",
              "      <td>96</td>\n",
              "      <td>7</td>\n",
              "      <td>250</td>\n",
              "      <td>1</td>\n",
              "      <td>8</td>\n",
              "      <td>44900</td>\n",
              "      <td>97</td>\n",
              "      <td>6</td>\n",
              "      <td>44900</td>\n",
              "      <td>97</td>\n",
              "      <td>4</td>\n",
              "    </tr>\n",
              "    <tr>\n",
              "      <th>39</th>\n",
              "      <td>978677</td>\n",
              "      <td>Amsterdam</td>\n",
              "      <td>City</td>\n",
              "      <td>18620</td>\n",
              "      <td>9218</td>\n",
              "      <td>6.2</td>\n",
              "      <td>Montgomery</td>\n",
              "      <td>Mohawk Valley Region</td>\n",
              "      <td>1</td>\n",
              "      <td>8900</td>\n",
              "      <td>97</td>\n",
              "      <td>1</td>\n",
              "      <td>8800</td>\n",
              "      <td>95</td>\n",
              "      <td>0</td>\n",
              "      <td>0</td>\n",
              "      <td>0</td>\n",
              "      <td>2</td>\n",
              "      <td>8900</td>\n",
              "      <td>97</td>\n",
              "      <td>3</td>\n",
              "      <td>8900</td>\n",
              "      <td>97</td>\n",
              "      <td>4</td>\n",
              "    </tr>\n",
              "    <tr>\n",
              "      <th>69</th>\n",
              "      <td>978695</td>\n",
              "      <td>Auburn</td>\n",
              "      <td>City</td>\n",
              "      <td>27687</td>\n",
              "      <td>12639</td>\n",
              "      <td>8.4</td>\n",
              "      <td>Cayuga</td>\n",
              "      <td>Central NY Region</td>\n",
              "      <td>1</td>\n",
              "      <td>12200</td>\n",
              "      <td>97</td>\n",
              "      <td>1</td>\n",
              "      <td>11400</td>\n",
              "      <td>90</td>\n",
              "      <td>3</td>\n",
              "      <td>11900</td>\n",
              "      <td>94</td>\n",
              "      <td>4</td>\n",
              "      <td>12200</td>\n",
              "      <td>97</td>\n",
              "      <td>5</td>\n",
              "      <td>12200</td>\n",
              "      <td>97</td>\n",
              "      <td>4</td>\n",
              "    </tr>\n",
              "    <tr>\n",
              "      <th>96</th>\n",
              "      <td>978713</td>\n",
              "      <td>Batavia</td>\n",
              "      <td>City</td>\n",
              "      <td>15465</td>\n",
              "      <td>7219</td>\n",
              "      <td>5.3</td>\n",
              "      <td>Genesee</td>\n",
              "      <td>Finger Lakes Region</td>\n",
              "      <td>1</td>\n",
              "      <td>7000</td>\n",
              "      <td>97</td>\n",
              "      <td>1</td>\n",
              "      <td>6900</td>\n",
              "      <td>96</td>\n",
              "      <td>2</td>\n",
              "      <td>0</td>\n",
              "      <td>0</td>\n",
              "      <td>4</td>\n",
              "      <td>7000</td>\n",
              "      <td>97</td>\n",
              "      <td>5</td>\n",
              "      <td>7000</td>\n",
              "      <td>97</td>\n",
              "      <td>4</td>\n",
              "    </tr>\n",
              "    <tr>\n",
              "      <th>102</th>\n",
              "      <td>978716</td>\n",
              "      <td>Beacon</td>\n",
              "      <td>City</td>\n",
              "      <td>15541</td>\n",
              "      <td>5715</td>\n",
              "      <td>4.9</td>\n",
              "      <td>Dutchess</td>\n",
              "      <td>Mid-Hudson Region</td>\n",
              "      <td>1</td>\n",
              "      <td>5500</td>\n",
              "      <td>96</td>\n",
              "      <td>1</td>\n",
              "      <td>5500</td>\n",
              "      <td>96</td>\n",
              "      <td>3</td>\n",
              "      <td>1200</td>\n",
              "      <td>21</td>\n",
              "      <td>4</td>\n",
              "      <td>5500</td>\n",
              "      <td>96</td>\n",
              "      <td>4</td>\n",
              "      <td>5500</td>\n",
              "      <td>96</td>\n",
              "      <td>4</td>\n",
              "    </tr>\n",
              "    <tr>\n",
              "      <th>...</th>\n",
              "      <td>...</td>\n",
              "      <td>...</td>\n",
              "      <td>...</td>\n",
              "      <td>...</td>\n",
              "      <td>...</td>\n",
              "      <td>...</td>\n",
              "      <td>...</td>\n",
              "      <td>...</td>\n",
              "      <td>...</td>\n",
              "      <td>...</td>\n",
              "      <td>...</td>\n",
              "      <td>...</td>\n",
              "      <td>...</td>\n",
              "      <td>...</td>\n",
              "      <td>...</td>\n",
              "      <td>...</td>\n",
              "      <td>...</td>\n",
              "      <td>...</td>\n",
              "      <td>...</td>\n",
              "      <td>...</td>\n",
              "      <td>...</td>\n",
              "      <td>...</td>\n",
              "      <td>...</td>\n",
              "      <td>...</td>\n",
              "    </tr>\n",
              "    <tr>\n",
              "      <th>1489</th>\n",
              "      <td>979575</td>\n",
              "      <td>Utica</td>\n",
              "      <td>City</td>\n",
              "      <td>62235</td>\n",
              "      <td>28166</td>\n",
              "      <td>16.6</td>\n",
              "      <td>Oneida</td>\n",
              "      <td>Mohawk Valley Region</td>\n",
              "      <td>1</td>\n",
              "      <td>27300</td>\n",
              "      <td>97</td>\n",
              "      <td>1</td>\n",
              "      <td>26800</td>\n",
              "      <td>95</td>\n",
              "      <td>2</td>\n",
              "      <td>0</td>\n",
              "      <td>0</td>\n",
              "      <td>4</td>\n",
              "      <td>27300</td>\n",
              "      <td>97</td>\n",
              "      <td>4</td>\n",
              "      <td>27300</td>\n",
              "      <td>97</td>\n",
              "      <td>4</td>\n",
              "    </tr>\n",
              "    <tr>\n",
              "      <th>1539</th>\n",
              "      <td>979604</td>\n",
              "      <td>Watertown</td>\n",
              "      <td>City</td>\n",
              "      <td>27023</td>\n",
              "      <td>12562</td>\n",
              "      <td>9.3</td>\n",
              "      <td>Jefferson</td>\n",
              "      <td>North Country Region</td>\n",
              "      <td>1</td>\n",
              "      <td>12100</td>\n",
              "      <td>96</td>\n",
              "      <td>2</td>\n",
              "      <td>12100</td>\n",
              "      <td>96</td>\n",
              "      <td>2</td>\n",
              "      <td>12100</td>\n",
              "      <td>96</td>\n",
              "      <td>4</td>\n",
              "      <td>12100</td>\n",
              "      <td>96</td>\n",
              "      <td>4</td>\n",
              "      <td>12100</td>\n",
              "      <td>96</td>\n",
              "      <td>4</td>\n",
              "    </tr>\n",
              "    <tr>\n",
              "      <th>1542</th>\n",
              "      <td>979606</td>\n",
              "      <td>Watervliet</td>\n",
              "      <td>City</td>\n",
              "      <td>10254</td>\n",
              "      <td>5306</td>\n",
              "      <td>1.5</td>\n",
              "      <td>Albany</td>\n",
              "      <td>Capital Region</td>\n",
              "      <td>1</td>\n",
              "      <td>5100</td>\n",
              "      <td>96</td>\n",
              "      <td>1</td>\n",
              "      <td>4900</td>\n",
              "      <td>92</td>\n",
              "      <td>4</td>\n",
              "      <td>0</td>\n",
              "      <td>0</td>\n",
              "      <td>6</td>\n",
              "      <td>5100</td>\n",
              "      <td>96</td>\n",
              "      <td>5</td>\n",
              "      <td>5100</td>\n",
              "      <td>96</td>\n",
              "      <td>4</td>\n",
              "    </tr>\n",
              "    <tr>\n",
              "      <th>1592</th>\n",
              "      <td>979637</td>\n",
              "      <td>White Plains</td>\n",
              "      <td>City</td>\n",
              "      <td>56853</td>\n",
              "      <td>24382</td>\n",
              "      <td>9.9</td>\n",
              "      <td>Westchester</td>\n",
              "      <td>Mid-Hudson Region</td>\n",
              "      <td>1</td>\n",
              "      <td>23600</td>\n",
              "      <td>97</td>\n",
              "      <td>2</td>\n",
              "      <td>23600</td>\n",
              "      <td>97</td>\n",
              "      <td>6</td>\n",
              "      <td>23200</td>\n",
              "      <td>95</td>\n",
              "      <td>8</td>\n",
              "      <td>23600</td>\n",
              "      <td>97</td>\n",
              "      <td>4</td>\n",
              "      <td>23600</td>\n",
              "      <td>97</td>\n",
              "      <td>4</td>\n",
              "    </tr>\n",
              "    <tr>\n",
              "      <th>1629</th>\n",
              "      <td>979660</td>\n",
              "      <td>Yonkers</td>\n",
              "      <td>City</td>\n",
              "      <td>195976</td>\n",
              "      <td>80389</td>\n",
              "      <td>20.2</td>\n",
              "      <td>Westchester</td>\n",
              "      <td>Mid-Hudson Region</td>\n",
              "      <td>2</td>\n",
              "      <td>77900</td>\n",
              "      <td>97</td>\n",
              "      <td>2</td>\n",
              "      <td>77900</td>\n",
              "      <td>97</td>\n",
              "      <td>4</td>\n",
              "      <td>76700</td>\n",
              "      <td>95</td>\n",
              "      <td>7</td>\n",
              "      <td>77900</td>\n",
              "      <td>97</td>\n",
              "      <td>4</td>\n",
              "      <td>77900</td>\n",
              "      <td>97</td>\n",
              "      <td>4</td>\n",
              "    </tr>\n",
              "  </tbody>\n",
              "</table>\n",
              "<p>61 rows × 24 columns</p>\n",
              "</div>"
            ],
            "text/plain": [
              "      GNIS ID Municipality Name  ... % Hse Units Wireless  # Satellite Providers\n",
              "9      978659            Albany  ...                   97                      4\n",
              "39     978677         Amsterdam  ...                   97                      4\n",
              "69     978695            Auburn  ...                   97                      4\n",
              "96     978713           Batavia  ...                   97                      4\n",
              "102    978716            Beacon  ...                   96                      4\n",
              "...       ...               ...  ...                  ...                    ...\n",
              "1489   979575             Utica  ...                   97                      4\n",
              "1539   979604         Watertown  ...                   96                      4\n",
              "1542   979606        Watervliet  ...                   96                      4\n",
              "1592   979637      White Plains  ...                   97                      4\n",
              "1629   979660           Yonkers  ...                   97                      4\n",
              "\n",
              "[61 rows x 24 columns]"
            ]
          },
          "metadata": {
            "tags": []
          },
          "execution_count": 115
        }
      ]
    },
    {
      "cell_type": "code",
      "metadata": {
        "colab": {
          "base_uri": "https://localhost:8080/",
          "height": 445
        },
        "id": "9kMcIs001ic2",
        "outputId": "162bb6fa-c757-47e6-facd-982f571a9881"
      },
      "source": [
        "borough = df[df['Municipality Type'] == 'Borough']\n",
        "borough"
      ],
      "execution_count": null,
      "outputs": [
        {
          "output_type": "execute_result",
          "data": {
            "text/html": [
              "<div>\n",
              "<style scoped>\n",
              "    .dataframe tbody tr th:only-of-type {\n",
              "        vertical-align: middle;\n",
              "    }\n",
              "\n",
              "    .dataframe tbody tr th {\n",
              "        vertical-align: top;\n",
              "    }\n",
              "\n",
              "    .dataframe thead th {\n",
              "        text-align: right;\n",
              "    }\n",
              "</style>\n",
              "<table border=\"1\" class=\"dataframe\">\n",
              "  <thead>\n",
              "    <tr style=\"text-align: right;\">\n",
              "      <th></th>\n",
              "      <th>GNIS ID</th>\n",
              "      <th>Municipality Name</th>\n",
              "      <th>Municipality Type</th>\n",
              "      <th>2010 Muni Population</th>\n",
              "      <th>2010 Muni Housing Units</th>\n",
              "      <th>Muni Area (sq mi)</th>\n",
              "      <th>County</th>\n",
              "      <th>REDC Region</th>\n",
              "      <th># Cable Providers</th>\n",
              "      <th># Hse Units Cable</th>\n",
              "      <th>% Hse Units Cable</th>\n",
              "      <th># of DSL Providers</th>\n",
              "      <th># Hse Units DSL</th>\n",
              "      <th>% Hse Units DSL</th>\n",
              "      <th># Fiber Providers</th>\n",
              "      <th># Hse Units Fiber</th>\n",
              "      <th>% Hse Units Fiber</th>\n",
              "      <th># Wireline Providers</th>\n",
              "      <th># Hse Units Wireline</th>\n",
              "      <th>% Hse Units Wireline</th>\n",
              "      <th># Wireless Providers</th>\n",
              "      <th># Hse Units Wireless</th>\n",
              "      <th>% Hse Units Wireless</th>\n",
              "      <th># Satellite Providers</th>\n",
              "    </tr>\n",
              "  </thead>\n",
              "  <tbody>\n",
              "    <tr>\n",
              "      <th>162</th>\n",
              "      <td>978756</td>\n",
              "      <td>Bronx borough</td>\n",
              "      <td>Borough</td>\n",
              "      <td>1385108</td>\n",
              "      <td>511896</td>\n",
              "      <td>57.5</td>\n",
              "      <td>Bronx</td>\n",
              "      <td>New York City</td>\n",
              "      <td>3</td>\n",
              "      <td>496000</td>\n",
              "      <td>97</td>\n",
              "      <td>2</td>\n",
              "      <td>496000</td>\n",
              "      <td>97</td>\n",
              "      <td>4</td>\n",
              "      <td>322000</td>\n",
              "      <td>63</td>\n",
              "      <td>8</td>\n",
              "      <td>496000</td>\n",
              "      <td>97</td>\n",
              "      <td>6</td>\n",
              "      <td>496000</td>\n",
              "      <td>97</td>\n",
              "      <td>4</td>\n",
              "    </tr>\n",
              "    <tr>\n",
              "      <th>166</th>\n",
              "      <td>978759</td>\n",
              "      <td>Brooklyn borough</td>\n",
              "      <td>Borough</td>\n",
              "      <td>2504700</td>\n",
              "      <td>1000293</td>\n",
              "      <td>97.1</td>\n",
              "      <td>Kings</td>\n",
              "      <td>New York City</td>\n",
              "      <td>3</td>\n",
              "      <td>970000</td>\n",
              "      <td>97</td>\n",
              "      <td>2</td>\n",
              "      <td>970000</td>\n",
              "      <td>97</td>\n",
              "      <td>6</td>\n",
              "      <td>505000</td>\n",
              "      <td>50</td>\n",
              "      <td>10</td>\n",
              "      <td>970000</td>\n",
              "      <td>97</td>\n",
              "      <td>7</td>\n",
              "      <td>969000</td>\n",
              "      <td>97</td>\n",
              "      <td>4</td>\n",
              "    </tr>\n",
              "    <tr>\n",
              "      <th>857</th>\n",
              "      <td>979190</td>\n",
              "      <td>Manhattan borough</td>\n",
              "      <td>Borough</td>\n",
              "      <td>1585873</td>\n",
              "      <td>847090</td>\n",
              "      <td>33.8</td>\n",
              "      <td>New York</td>\n",
              "      <td>New York City</td>\n",
              "      <td>4</td>\n",
              "      <td>820000</td>\n",
              "      <td>97</td>\n",
              "      <td>2</td>\n",
              "      <td>821000</td>\n",
              "      <td>97</td>\n",
              "      <td>8</td>\n",
              "      <td>495000</td>\n",
              "      <td>58</td>\n",
              "      <td>13</td>\n",
              "      <td>821000</td>\n",
              "      <td>97</td>\n",
              "      <td>7</td>\n",
              "      <td>821000</td>\n",
              "      <td>97</td>\n",
              "      <td>4</td>\n",
              "    </tr>\n",
              "    <tr>\n",
              "      <th>1211</th>\n",
              "      <td>979404</td>\n",
              "      <td>Queens borough</td>\n",
              "      <td>Borough</td>\n",
              "      <td>2230722</td>\n",
              "      <td>835127</td>\n",
              "      <td>179.0</td>\n",
              "      <td>Queens</td>\n",
              "      <td>New York City</td>\n",
              "      <td>3</td>\n",
              "      <td>809000</td>\n",
              "      <td>97</td>\n",
              "      <td>2</td>\n",
              "      <td>808000</td>\n",
              "      <td>97</td>\n",
              "      <td>5</td>\n",
              "      <td>576000</td>\n",
              "      <td>69</td>\n",
              "      <td>9</td>\n",
              "      <td>810000</td>\n",
              "      <td>97</td>\n",
              "      <td>7</td>\n",
              "      <td>809000</td>\n",
              "      <td>97</td>\n",
              "      <td>4</td>\n",
              "    </tr>\n",
              "    <tr>\n",
              "      <th>1407</th>\n",
              "      <td>979522</td>\n",
              "      <td>Staten Island borough</td>\n",
              "      <td>Borough</td>\n",
              "      <td>468730</td>\n",
              "      <td>176656</td>\n",
              "      <td>102.3</td>\n",
              "      <td>Richmond</td>\n",
              "      <td>New York City</td>\n",
              "      <td>2</td>\n",
              "      <td>171000</td>\n",
              "      <td>97</td>\n",
              "      <td>2</td>\n",
              "      <td>171000</td>\n",
              "      <td>97</td>\n",
              "      <td>3</td>\n",
              "      <td>169000</td>\n",
              "      <td>96</td>\n",
              "      <td>6</td>\n",
              "      <td>171000</td>\n",
              "      <td>97</td>\n",
              "      <td>6</td>\n",
              "      <td>170000</td>\n",
              "      <td>96</td>\n",
              "      <td>4</td>\n",
              "    </tr>\n",
              "  </tbody>\n",
              "</table>\n",
              "</div>"
            ],
            "text/plain": [
              "      GNIS ID  ... # Satellite Providers\n",
              "162    978756  ...                     4\n",
              "166    978759  ...                     4\n",
              "857    979190  ...                     4\n",
              "1211   979404  ...                     4\n",
              "1407   979522  ...                     4\n",
              "\n",
              "[5 rows x 24 columns]"
            ]
          },
          "metadata": {
            "tags": []
          },
          "execution_count": 116
        }
      ]
    },
    {
      "cell_type": "code",
      "metadata": {
        "colab": {
          "base_uri": "https://localhost:8080/",
          "height": 204
        },
        "id": "zgWloKUK_4yU",
        "outputId": "2a60c899-ef82-4b1f-c30c-15142bc721cc"
      },
      "source": [
        "borough[['Municipality Name', '# of DSL Providers']]"
      ],
      "execution_count": null,
      "outputs": [
        {
          "output_type": "execute_result",
          "data": {
            "text/html": [
              "<div>\n",
              "<style scoped>\n",
              "    .dataframe tbody tr th:only-of-type {\n",
              "        vertical-align: middle;\n",
              "    }\n",
              "\n",
              "    .dataframe tbody tr th {\n",
              "        vertical-align: top;\n",
              "    }\n",
              "\n",
              "    .dataframe thead th {\n",
              "        text-align: right;\n",
              "    }\n",
              "</style>\n",
              "<table border=\"1\" class=\"dataframe\">\n",
              "  <thead>\n",
              "    <tr style=\"text-align: right;\">\n",
              "      <th></th>\n",
              "      <th>Municipality Name</th>\n",
              "      <th># of DSL Providers</th>\n",
              "    </tr>\n",
              "  </thead>\n",
              "  <tbody>\n",
              "    <tr>\n",
              "      <th>162</th>\n",
              "      <td>Bronx borough</td>\n",
              "      <td>2</td>\n",
              "    </tr>\n",
              "    <tr>\n",
              "      <th>166</th>\n",
              "      <td>Brooklyn borough</td>\n",
              "      <td>2</td>\n",
              "    </tr>\n",
              "    <tr>\n",
              "      <th>857</th>\n",
              "      <td>Manhattan borough</td>\n",
              "      <td>2</td>\n",
              "    </tr>\n",
              "    <tr>\n",
              "      <th>1211</th>\n",
              "      <td>Queens borough</td>\n",
              "      <td>2</td>\n",
              "    </tr>\n",
              "    <tr>\n",
              "      <th>1407</th>\n",
              "      <td>Staten Island borough</td>\n",
              "      <td>2</td>\n",
              "    </tr>\n",
              "  </tbody>\n",
              "</table>\n",
              "</div>"
            ],
            "text/plain": [
              "          Municipality Name  # of DSL Providers\n",
              "162           Bronx borough                   2\n",
              "166        Brooklyn borough                   2\n",
              "857       Manhattan borough                   2\n",
              "1211         Queens borough                   2\n",
              "1407  Staten Island borough                   2"
            ]
          },
          "metadata": {
            "tags": []
          },
          "execution_count": 117
        }
      ]
    },
    {
      "cell_type": "code",
      "metadata": {
        "colab": {
          "base_uri": "https://localhost:8080/",
          "height": 204
        },
        "id": "ZyXxXWxXC35D",
        "outputId": "6b5b6739-dce7-4ee5-e0e9-00540d4f4bc6"
      },
      "source": [
        "borough[['Municipality Name', '% Hse Units DSL']]"
      ],
      "execution_count": null,
      "outputs": [
        {
          "output_type": "execute_result",
          "data": {
            "text/html": [
              "<div>\n",
              "<style scoped>\n",
              "    .dataframe tbody tr th:only-of-type {\n",
              "        vertical-align: middle;\n",
              "    }\n",
              "\n",
              "    .dataframe tbody tr th {\n",
              "        vertical-align: top;\n",
              "    }\n",
              "\n",
              "    .dataframe thead th {\n",
              "        text-align: right;\n",
              "    }\n",
              "</style>\n",
              "<table border=\"1\" class=\"dataframe\">\n",
              "  <thead>\n",
              "    <tr style=\"text-align: right;\">\n",
              "      <th></th>\n",
              "      <th>Municipality Name</th>\n",
              "      <th>% Hse Units DSL</th>\n",
              "    </tr>\n",
              "  </thead>\n",
              "  <tbody>\n",
              "    <tr>\n",
              "      <th>162</th>\n",
              "      <td>Bronx borough</td>\n",
              "      <td>97</td>\n",
              "    </tr>\n",
              "    <tr>\n",
              "      <th>166</th>\n",
              "      <td>Brooklyn borough</td>\n",
              "      <td>97</td>\n",
              "    </tr>\n",
              "    <tr>\n",
              "      <th>857</th>\n",
              "      <td>Manhattan borough</td>\n",
              "      <td>97</td>\n",
              "    </tr>\n",
              "    <tr>\n",
              "      <th>1211</th>\n",
              "      <td>Queens borough</td>\n",
              "      <td>97</td>\n",
              "    </tr>\n",
              "    <tr>\n",
              "      <th>1407</th>\n",
              "      <td>Staten Island borough</td>\n",
              "      <td>97</td>\n",
              "    </tr>\n",
              "  </tbody>\n",
              "</table>\n",
              "</div>"
            ],
            "text/plain": [
              "          Municipality Name  % Hse Units DSL\n",
              "162           Bronx borough               97\n",
              "166        Brooklyn borough               97\n",
              "857       Manhattan borough               97\n",
              "1211         Queens borough               97\n",
              "1407  Staten Island borough               97"
            ]
          },
          "metadata": {
            "tags": []
          },
          "execution_count": 118
        }
      ]
    },
    {
      "cell_type": "code",
      "metadata": {
        "colab": {
          "base_uri": "https://localhost:8080/",
          "height": 204
        },
        "id": "sgR3W79sB_zq",
        "outputId": "3b8d1dec-b4e5-4abd-a3cf-a487486b1e1c"
      },
      "source": [
        "borough[['Municipality Name', '# Fiber Providers']]"
      ],
      "execution_count": null,
      "outputs": [
        {
          "output_type": "execute_result",
          "data": {
            "text/html": [
              "<div>\n",
              "<style scoped>\n",
              "    .dataframe tbody tr th:only-of-type {\n",
              "        vertical-align: middle;\n",
              "    }\n",
              "\n",
              "    .dataframe tbody tr th {\n",
              "        vertical-align: top;\n",
              "    }\n",
              "\n",
              "    .dataframe thead th {\n",
              "        text-align: right;\n",
              "    }\n",
              "</style>\n",
              "<table border=\"1\" class=\"dataframe\">\n",
              "  <thead>\n",
              "    <tr style=\"text-align: right;\">\n",
              "      <th></th>\n",
              "      <th>Municipality Name</th>\n",
              "      <th># Fiber Providers</th>\n",
              "    </tr>\n",
              "  </thead>\n",
              "  <tbody>\n",
              "    <tr>\n",
              "      <th>162</th>\n",
              "      <td>Bronx borough</td>\n",
              "      <td>4</td>\n",
              "    </tr>\n",
              "    <tr>\n",
              "      <th>166</th>\n",
              "      <td>Brooklyn borough</td>\n",
              "      <td>6</td>\n",
              "    </tr>\n",
              "    <tr>\n",
              "      <th>857</th>\n",
              "      <td>Manhattan borough</td>\n",
              "      <td>8</td>\n",
              "    </tr>\n",
              "    <tr>\n",
              "      <th>1211</th>\n",
              "      <td>Queens borough</td>\n",
              "      <td>5</td>\n",
              "    </tr>\n",
              "    <tr>\n",
              "      <th>1407</th>\n",
              "      <td>Staten Island borough</td>\n",
              "      <td>3</td>\n",
              "    </tr>\n",
              "  </tbody>\n",
              "</table>\n",
              "</div>"
            ],
            "text/plain": [
              "          Municipality Name  # Fiber Providers\n",
              "162           Bronx borough                  4\n",
              "166        Brooklyn borough                  6\n",
              "857       Manhattan borough                  8\n",
              "1211         Queens borough                  5\n",
              "1407  Staten Island borough                  3"
            ]
          },
          "metadata": {
            "tags": []
          },
          "execution_count": 119
        }
      ]
    },
    {
      "cell_type": "code",
      "metadata": {
        "colab": {
          "base_uri": "https://localhost:8080/",
          "height": 204
        },
        "id": "SMjrwINMDCXh",
        "outputId": "0c56fcf9-b656-48da-93c6-b1676bbf0e3d"
      },
      "source": [
        "borough[['Municipality Name', '% Hse Units Fiber']]"
      ],
      "execution_count": null,
      "outputs": [
        {
          "output_type": "execute_result",
          "data": {
            "text/html": [
              "<div>\n",
              "<style scoped>\n",
              "    .dataframe tbody tr th:only-of-type {\n",
              "        vertical-align: middle;\n",
              "    }\n",
              "\n",
              "    .dataframe tbody tr th {\n",
              "        vertical-align: top;\n",
              "    }\n",
              "\n",
              "    .dataframe thead th {\n",
              "        text-align: right;\n",
              "    }\n",
              "</style>\n",
              "<table border=\"1\" class=\"dataframe\">\n",
              "  <thead>\n",
              "    <tr style=\"text-align: right;\">\n",
              "      <th></th>\n",
              "      <th>Municipality Name</th>\n",
              "      <th>% Hse Units Fiber</th>\n",
              "    </tr>\n",
              "  </thead>\n",
              "  <tbody>\n",
              "    <tr>\n",
              "      <th>162</th>\n",
              "      <td>Bronx borough</td>\n",
              "      <td>63</td>\n",
              "    </tr>\n",
              "    <tr>\n",
              "      <th>166</th>\n",
              "      <td>Brooklyn borough</td>\n",
              "      <td>50</td>\n",
              "    </tr>\n",
              "    <tr>\n",
              "      <th>857</th>\n",
              "      <td>Manhattan borough</td>\n",
              "      <td>58</td>\n",
              "    </tr>\n",
              "    <tr>\n",
              "      <th>1211</th>\n",
              "      <td>Queens borough</td>\n",
              "      <td>69</td>\n",
              "    </tr>\n",
              "    <tr>\n",
              "      <th>1407</th>\n",
              "      <td>Staten Island borough</td>\n",
              "      <td>96</td>\n",
              "    </tr>\n",
              "  </tbody>\n",
              "</table>\n",
              "</div>"
            ],
            "text/plain": [
              "          Municipality Name  % Hse Units Fiber\n",
              "162           Bronx borough                 63\n",
              "166        Brooklyn borough                 50\n",
              "857       Manhattan borough                 58\n",
              "1211         Queens borough                 69\n",
              "1407  Staten Island borough                 96"
            ]
          },
          "metadata": {
            "tags": []
          },
          "execution_count": 120
        }
      ]
    },
    {
      "cell_type": "code",
      "metadata": {
        "id": "dzlRD60BCIjx",
        "colab": {
          "base_uri": "https://localhost:8080/",
          "height": 204
        },
        "outputId": "53b321d3-b5e2-46a3-e496-4619c62f5939"
      },
      "source": [
        "borough[['Municipality Name', '# Cable Providers']]"
      ],
      "execution_count": null,
      "outputs": [
        {
          "output_type": "execute_result",
          "data": {
            "text/html": [
              "<div>\n",
              "<style scoped>\n",
              "    .dataframe tbody tr th:only-of-type {\n",
              "        vertical-align: middle;\n",
              "    }\n",
              "\n",
              "    .dataframe tbody tr th {\n",
              "        vertical-align: top;\n",
              "    }\n",
              "\n",
              "    .dataframe thead th {\n",
              "        text-align: right;\n",
              "    }\n",
              "</style>\n",
              "<table border=\"1\" class=\"dataframe\">\n",
              "  <thead>\n",
              "    <tr style=\"text-align: right;\">\n",
              "      <th></th>\n",
              "      <th>Municipality Name</th>\n",
              "      <th># Cable Providers</th>\n",
              "    </tr>\n",
              "  </thead>\n",
              "  <tbody>\n",
              "    <tr>\n",
              "      <th>162</th>\n",
              "      <td>Bronx borough</td>\n",
              "      <td>3</td>\n",
              "    </tr>\n",
              "    <tr>\n",
              "      <th>166</th>\n",
              "      <td>Brooklyn borough</td>\n",
              "      <td>3</td>\n",
              "    </tr>\n",
              "    <tr>\n",
              "      <th>857</th>\n",
              "      <td>Manhattan borough</td>\n",
              "      <td>4</td>\n",
              "    </tr>\n",
              "    <tr>\n",
              "      <th>1211</th>\n",
              "      <td>Queens borough</td>\n",
              "      <td>3</td>\n",
              "    </tr>\n",
              "    <tr>\n",
              "      <th>1407</th>\n",
              "      <td>Staten Island borough</td>\n",
              "      <td>2</td>\n",
              "    </tr>\n",
              "  </tbody>\n",
              "</table>\n",
              "</div>"
            ],
            "text/plain": [
              "          Municipality Name  # Cable Providers\n",
              "162           Bronx borough                  3\n",
              "166        Brooklyn borough                  3\n",
              "857       Manhattan borough                  4\n",
              "1211         Queens borough                  3\n",
              "1407  Staten Island borough                  2"
            ]
          },
          "metadata": {
            "tags": []
          },
          "execution_count": 121
        }
      ]
    },
    {
      "cell_type": "code",
      "metadata": {
        "colab": {
          "base_uri": "https://localhost:8080/",
          "height": 204
        },
        "id": "NusZcQ8DDNLC",
        "outputId": "21712c5c-8e7d-4db3-d88e-bfdc6b3e26de"
      },
      "source": [
        "borough[['Municipality Name', '% Hse Units Cable']]"
      ],
      "execution_count": null,
      "outputs": [
        {
          "output_type": "execute_result",
          "data": {
            "text/html": [
              "<div>\n",
              "<style scoped>\n",
              "    .dataframe tbody tr th:only-of-type {\n",
              "        vertical-align: middle;\n",
              "    }\n",
              "\n",
              "    .dataframe tbody tr th {\n",
              "        vertical-align: top;\n",
              "    }\n",
              "\n",
              "    .dataframe thead th {\n",
              "        text-align: right;\n",
              "    }\n",
              "</style>\n",
              "<table border=\"1\" class=\"dataframe\">\n",
              "  <thead>\n",
              "    <tr style=\"text-align: right;\">\n",
              "      <th></th>\n",
              "      <th>Municipality Name</th>\n",
              "      <th>% Hse Units Cable</th>\n",
              "    </tr>\n",
              "  </thead>\n",
              "  <tbody>\n",
              "    <tr>\n",
              "      <th>162</th>\n",
              "      <td>Bronx borough</td>\n",
              "      <td>97</td>\n",
              "    </tr>\n",
              "    <tr>\n",
              "      <th>166</th>\n",
              "      <td>Brooklyn borough</td>\n",
              "      <td>97</td>\n",
              "    </tr>\n",
              "    <tr>\n",
              "      <th>857</th>\n",
              "      <td>Manhattan borough</td>\n",
              "      <td>97</td>\n",
              "    </tr>\n",
              "    <tr>\n",
              "      <th>1211</th>\n",
              "      <td>Queens borough</td>\n",
              "      <td>97</td>\n",
              "    </tr>\n",
              "    <tr>\n",
              "      <th>1407</th>\n",
              "      <td>Staten Island borough</td>\n",
              "      <td>97</td>\n",
              "    </tr>\n",
              "  </tbody>\n",
              "</table>\n",
              "</div>"
            ],
            "text/plain": [
              "          Municipality Name  % Hse Units Cable\n",
              "162           Bronx borough                 97\n",
              "166        Brooklyn borough                 97\n",
              "857       Manhattan borough                 97\n",
              "1211         Queens borough                 97\n",
              "1407  Staten Island borough                 97"
            ]
          },
          "metadata": {
            "tags": []
          },
          "execution_count": 122
        }
      ]
    },
    {
      "cell_type": "code",
      "metadata": {
        "colab": {
          "base_uri": "https://localhost:8080/"
        },
        "id": "-6UUEhvczvjs",
        "outputId": "bb88eda9-582d-4fdf-e565-453a1686f20e"
      },
      "source": [
        "null_columns = df.columns[df.isnull().any()]\n",
        "print(df[df.isnull().any(axis=1)][null_columns].head())"
      ],
      "execution_count": null,
      "outputs": [
        {
          "output_type": "stream",
          "text": [
            "     County REDC Region\n",
            "1006    NaN         NaN\n"
          ],
          "name": "stdout"
        }
      ]
    },
    {
      "cell_type": "code",
      "metadata": {
        "colab": {
          "base_uri": "https://localhost:8080/"
        },
        "id": "gCvLuQAw01s4",
        "outputId": "c8fdf5a3-4b47-4687-9c53-37810365f9ba"
      },
      "source": [
        "df[null_columns].isnull().sum()"
      ],
      "execution_count": null,
      "outputs": [
        {
          "output_type": "execute_result",
          "data": {
            "text/plain": [
              "County         1\n",
              "REDC Region    1\n",
              "dtype: int64"
            ]
          },
          "metadata": {
            "tags": []
          },
          "execution_count": 124
        }
      ]
    },
    {
      "cell_type": "code",
      "metadata": {
        "id": "zM6re2xqCXzS"
      },
      "source": [
        "def newfiberproviders(row):\n",
        "\n",
        "  if row['% Hse Units Fiber'] == 0 : return 'none'\n",
        "  elif row['% Hse Units Fiber'] < 50 : return ' really low'\n",
        "  elif row['% Hse Units Fiber'] <=58 : return 'low'\n",
        "  elif row['% Hse Units Fiber'] < 63 : return 'mid-low'\n",
        "  elif row['% Hse Units Fiber'] <= 69 : return 'medium'\n",
        "  elif row['% Hse Units Fiber'] >=96 : return 'high'"
      ],
      "execution_count": null,
      "outputs": []
    },
    {
      "cell_type": "code",
      "metadata": {
        "colab": {
          "base_uri": "https://localhost:8080/"
        },
        "id": "l0jlSI7QGijG",
        "outputId": "ef971042-8e29-4cbf-d545-0ea647e431a4"
      },
      "source": [
        "borough['% Hse Units Fiber'] = borough.apply( lambda row : newfiberproviders(row), axis = 1)"
      ],
      "execution_count": null,
      "outputs": [
        {
          "output_type": "stream",
          "text": [
            "/usr/local/lib/python3.6/dist-packages/ipykernel_launcher.py:1: SettingWithCopyWarning:\n",
            "\n",
            "\n",
            "A value is trying to be set on a copy of a slice from a DataFrame.\n",
            "Try using .loc[row_indexer,col_indexer] = value instead\n",
            "\n",
            "See the caveats in the documentation: https://pandas.pydata.org/pandas-docs/stable/user_guide/indexing.html#returning-a-view-versus-a-copy\n",
            "\n"
          ],
          "name": "stderr"
        }
      ]
    },
    {
      "cell_type": "code",
      "metadata": {
        "colab": {
          "base_uri": "https://localhost:8080/",
          "height": 445
        },
        "id": "yG0wXf9iKIQw",
        "outputId": "cc0f701d-6f9d-449f-aad3-c04748622146"
      },
      "source": [
        "borough"
      ],
      "execution_count": null,
      "outputs": [
        {
          "output_type": "execute_result",
          "data": {
            "text/html": [
              "<div>\n",
              "<style scoped>\n",
              "    .dataframe tbody tr th:only-of-type {\n",
              "        vertical-align: middle;\n",
              "    }\n",
              "\n",
              "    .dataframe tbody tr th {\n",
              "        vertical-align: top;\n",
              "    }\n",
              "\n",
              "    .dataframe thead th {\n",
              "        text-align: right;\n",
              "    }\n",
              "</style>\n",
              "<table border=\"1\" class=\"dataframe\">\n",
              "  <thead>\n",
              "    <tr style=\"text-align: right;\">\n",
              "      <th></th>\n",
              "      <th>GNIS ID</th>\n",
              "      <th>Municipality Name</th>\n",
              "      <th>Municipality Type</th>\n",
              "      <th>2010 Muni Population</th>\n",
              "      <th>2010 Muni Housing Units</th>\n",
              "      <th>Muni Area (sq mi)</th>\n",
              "      <th>County</th>\n",
              "      <th>REDC Region</th>\n",
              "      <th># Cable Providers</th>\n",
              "      <th># Hse Units Cable</th>\n",
              "      <th>% Hse Units Cable</th>\n",
              "      <th># of DSL Providers</th>\n",
              "      <th># Hse Units DSL</th>\n",
              "      <th>% Hse Units DSL</th>\n",
              "      <th># Fiber Providers</th>\n",
              "      <th># Hse Units Fiber</th>\n",
              "      <th>% Hse Units Fiber</th>\n",
              "      <th># Wireline Providers</th>\n",
              "      <th># Hse Units Wireline</th>\n",
              "      <th>% Hse Units Wireline</th>\n",
              "      <th># Wireless Providers</th>\n",
              "      <th># Hse Units Wireless</th>\n",
              "      <th>% Hse Units Wireless</th>\n",
              "      <th># Satellite Providers</th>\n",
              "    </tr>\n",
              "  </thead>\n",
              "  <tbody>\n",
              "    <tr>\n",
              "      <th>162</th>\n",
              "      <td>978756</td>\n",
              "      <td>Bronx borough</td>\n",
              "      <td>Borough</td>\n",
              "      <td>1385108</td>\n",
              "      <td>511896</td>\n",
              "      <td>57.5</td>\n",
              "      <td>Bronx</td>\n",
              "      <td>New York City</td>\n",
              "      <td>3</td>\n",
              "      <td>496000</td>\n",
              "      <td>97</td>\n",
              "      <td>2</td>\n",
              "      <td>496000</td>\n",
              "      <td>97</td>\n",
              "      <td>4</td>\n",
              "      <td>322000</td>\n",
              "      <td>medium</td>\n",
              "      <td>8</td>\n",
              "      <td>496000</td>\n",
              "      <td>97</td>\n",
              "      <td>6</td>\n",
              "      <td>496000</td>\n",
              "      <td>97</td>\n",
              "      <td>4</td>\n",
              "    </tr>\n",
              "    <tr>\n",
              "      <th>166</th>\n",
              "      <td>978759</td>\n",
              "      <td>Brooklyn borough</td>\n",
              "      <td>Borough</td>\n",
              "      <td>2504700</td>\n",
              "      <td>1000293</td>\n",
              "      <td>97.1</td>\n",
              "      <td>Kings</td>\n",
              "      <td>New York City</td>\n",
              "      <td>3</td>\n",
              "      <td>970000</td>\n",
              "      <td>97</td>\n",
              "      <td>2</td>\n",
              "      <td>970000</td>\n",
              "      <td>97</td>\n",
              "      <td>6</td>\n",
              "      <td>505000</td>\n",
              "      <td>low</td>\n",
              "      <td>10</td>\n",
              "      <td>970000</td>\n",
              "      <td>97</td>\n",
              "      <td>7</td>\n",
              "      <td>969000</td>\n",
              "      <td>97</td>\n",
              "      <td>4</td>\n",
              "    </tr>\n",
              "    <tr>\n",
              "      <th>857</th>\n",
              "      <td>979190</td>\n",
              "      <td>Manhattan borough</td>\n",
              "      <td>Borough</td>\n",
              "      <td>1585873</td>\n",
              "      <td>847090</td>\n",
              "      <td>33.8</td>\n",
              "      <td>New York</td>\n",
              "      <td>New York City</td>\n",
              "      <td>4</td>\n",
              "      <td>820000</td>\n",
              "      <td>97</td>\n",
              "      <td>2</td>\n",
              "      <td>821000</td>\n",
              "      <td>97</td>\n",
              "      <td>8</td>\n",
              "      <td>495000</td>\n",
              "      <td>low</td>\n",
              "      <td>13</td>\n",
              "      <td>821000</td>\n",
              "      <td>97</td>\n",
              "      <td>7</td>\n",
              "      <td>821000</td>\n",
              "      <td>97</td>\n",
              "      <td>4</td>\n",
              "    </tr>\n",
              "    <tr>\n",
              "      <th>1211</th>\n",
              "      <td>979404</td>\n",
              "      <td>Queens borough</td>\n",
              "      <td>Borough</td>\n",
              "      <td>2230722</td>\n",
              "      <td>835127</td>\n",
              "      <td>179.0</td>\n",
              "      <td>Queens</td>\n",
              "      <td>New York City</td>\n",
              "      <td>3</td>\n",
              "      <td>809000</td>\n",
              "      <td>97</td>\n",
              "      <td>2</td>\n",
              "      <td>808000</td>\n",
              "      <td>97</td>\n",
              "      <td>5</td>\n",
              "      <td>576000</td>\n",
              "      <td>medium</td>\n",
              "      <td>9</td>\n",
              "      <td>810000</td>\n",
              "      <td>97</td>\n",
              "      <td>7</td>\n",
              "      <td>809000</td>\n",
              "      <td>97</td>\n",
              "      <td>4</td>\n",
              "    </tr>\n",
              "    <tr>\n",
              "      <th>1407</th>\n",
              "      <td>979522</td>\n",
              "      <td>Staten Island borough</td>\n",
              "      <td>Borough</td>\n",
              "      <td>468730</td>\n",
              "      <td>176656</td>\n",
              "      <td>102.3</td>\n",
              "      <td>Richmond</td>\n",
              "      <td>New York City</td>\n",
              "      <td>2</td>\n",
              "      <td>171000</td>\n",
              "      <td>97</td>\n",
              "      <td>2</td>\n",
              "      <td>171000</td>\n",
              "      <td>97</td>\n",
              "      <td>3</td>\n",
              "      <td>169000</td>\n",
              "      <td>high</td>\n",
              "      <td>6</td>\n",
              "      <td>171000</td>\n",
              "      <td>97</td>\n",
              "      <td>6</td>\n",
              "      <td>170000</td>\n",
              "      <td>96</td>\n",
              "      <td>4</td>\n",
              "    </tr>\n",
              "  </tbody>\n",
              "</table>\n",
              "</div>"
            ],
            "text/plain": [
              "      GNIS ID  ... # Satellite Providers\n",
              "162    978756  ...                     4\n",
              "166    978759  ...                     4\n",
              "857    979190  ...                     4\n",
              "1211   979404  ...                     4\n",
              "1407   979522  ...                     4\n",
              "\n",
              "[5 rows x 24 columns]"
            ]
          },
          "metadata": {
            "tags": []
          },
          "execution_count": 127
        }
      ]
    },
    {
      "cell_type": "code",
      "metadata": {
        "colab": {
          "base_uri": "https://localhost:8080/",
          "height": 542
        },
        "id": "h02p7I2xP7Nh",
        "outputId": "02502d5a-6fc3-4a10-d482-77b0f2e43ac5"
      },
      "source": [
        "# Pie chart, where the slices will be ordered and plotted counter-clockwise:\n",
        "pie_home_adoption = px.pie(borough, names = '% Hse Units Fiber' , title='% Hse Units Fiber in NYC')\n",
        "pie_home_adoption.show()"
      ],
      "execution_count": null,
      "outputs": [
        {
          "output_type": "display_data",
          "data": {
            "text/html": [
              "<html>\n",
              "<head><meta charset=\"utf-8\" /></head>\n",
              "<body>\n",
              "    <div>\n",
              "            <script src=\"https://cdnjs.cloudflare.com/ajax/libs/mathjax/2.7.5/MathJax.js?config=TeX-AMS-MML_SVG\"></script><script type=\"text/javascript\">if (window.MathJax) {MathJax.Hub.Config({SVG: {font: \"STIX-Web\"}});}</script>\n",
              "                <script type=\"text/javascript\">window.PlotlyConfig = {MathJaxConfig: 'local'};</script>\n",
              "        <script src=\"https://cdn.plot.ly/plotly-latest.min.js\"></script>    \n",
              "            <div id=\"3a8444cf-b908-4f00-bdab-f77c4edb55bb\" class=\"plotly-graph-div\" style=\"height:525px; width:100%;\"></div>\n",
              "            <script type=\"text/javascript\">\n",
              "                \n",
              "                    window.PLOTLYENV=window.PLOTLYENV || {};\n",
              "                    \n",
              "                if (document.getElementById(\"3a8444cf-b908-4f00-bdab-f77c4edb55bb\")) {\n",
              "                    Plotly.newPlot(\n",
              "                        '3a8444cf-b908-4f00-bdab-f77c4edb55bb',\n",
              "                        [{\"domain\": {\"x\": [0.0, 1.0], \"y\": [0.0, 1.0]}, \"hoverlabel\": {\"namelength\": 0}, \"hovertemplate\": \"% Hse Units Fiber=%{label}\", \"labels\": [\"medium\", \"low\", \"low\", \"medium\", \"high\"], \"legendgroup\": \"\", \"name\": \"\", \"showlegend\": true, \"type\": \"pie\"}],\n",
              "                        {\"legend\": {\"tracegroupgap\": 0}, \"template\": {\"data\": {\"bar\": [{\"error_x\": {\"color\": \"#2a3f5f\"}, \"error_y\": {\"color\": \"#2a3f5f\"}, \"marker\": {\"line\": {\"color\": \"#E5ECF6\", \"width\": 0.5}}, \"type\": \"bar\"}], \"barpolar\": [{\"marker\": {\"line\": {\"color\": \"#E5ECF6\", \"width\": 0.5}}, \"type\": \"barpolar\"}], \"carpet\": [{\"aaxis\": {\"endlinecolor\": \"#2a3f5f\", \"gridcolor\": \"white\", \"linecolor\": \"white\", \"minorgridcolor\": \"white\", \"startlinecolor\": \"#2a3f5f\"}, \"baxis\": {\"endlinecolor\": \"#2a3f5f\", \"gridcolor\": \"white\", \"linecolor\": \"white\", \"minorgridcolor\": \"white\", \"startlinecolor\": \"#2a3f5f\"}, \"type\": \"carpet\"}], \"choropleth\": [{\"colorbar\": {\"outlinewidth\": 0, \"ticks\": \"\"}, \"type\": \"choropleth\"}], \"contour\": [{\"colorbar\": {\"outlinewidth\": 0, \"ticks\": \"\"}, \"colorscale\": [[0.0, \"#0d0887\"], [0.1111111111111111, \"#46039f\"], [0.2222222222222222, \"#7201a8\"], [0.3333333333333333, \"#9c179e\"], [0.4444444444444444, \"#bd3786\"], [0.5555555555555556, \"#d8576b\"], [0.6666666666666666, \"#ed7953\"], [0.7777777777777778, \"#fb9f3a\"], [0.8888888888888888, \"#fdca26\"], [1.0, \"#f0f921\"]], \"type\": \"contour\"}], \"contourcarpet\": [{\"colorbar\": {\"outlinewidth\": 0, \"ticks\": \"\"}, \"type\": \"contourcarpet\"}], \"heatmap\": [{\"colorbar\": {\"outlinewidth\": 0, \"ticks\": \"\"}, \"colorscale\": [[0.0, \"#0d0887\"], [0.1111111111111111, \"#46039f\"], [0.2222222222222222, \"#7201a8\"], [0.3333333333333333, \"#9c179e\"], [0.4444444444444444, \"#bd3786\"], [0.5555555555555556, \"#d8576b\"], [0.6666666666666666, \"#ed7953\"], [0.7777777777777778, \"#fb9f3a\"], [0.8888888888888888, \"#fdca26\"], [1.0, \"#f0f921\"]], \"type\": \"heatmap\"}], \"heatmapgl\": [{\"colorbar\": {\"outlinewidth\": 0, \"ticks\": \"\"}, \"colorscale\": [[0.0, \"#0d0887\"], [0.1111111111111111, \"#46039f\"], [0.2222222222222222, \"#7201a8\"], [0.3333333333333333, \"#9c179e\"], [0.4444444444444444, \"#bd3786\"], [0.5555555555555556, \"#d8576b\"], [0.6666666666666666, \"#ed7953\"], [0.7777777777777778, \"#fb9f3a\"], [0.8888888888888888, \"#fdca26\"], [1.0, \"#f0f921\"]], \"type\": \"heatmapgl\"}], \"histogram\": [{\"marker\": {\"colorbar\": {\"outlinewidth\": 0, \"ticks\": \"\"}}, \"type\": \"histogram\"}], \"histogram2d\": [{\"colorbar\": {\"outlinewidth\": 0, \"ticks\": \"\"}, \"colorscale\": [[0.0, \"#0d0887\"], [0.1111111111111111, \"#46039f\"], [0.2222222222222222, \"#7201a8\"], [0.3333333333333333, \"#9c179e\"], [0.4444444444444444, \"#bd3786\"], [0.5555555555555556, \"#d8576b\"], [0.6666666666666666, \"#ed7953\"], [0.7777777777777778, \"#fb9f3a\"], [0.8888888888888888, \"#fdca26\"], [1.0, \"#f0f921\"]], \"type\": \"histogram2d\"}], \"histogram2dcontour\": [{\"colorbar\": {\"outlinewidth\": 0, \"ticks\": \"\"}, \"colorscale\": [[0.0, \"#0d0887\"], [0.1111111111111111, \"#46039f\"], [0.2222222222222222, \"#7201a8\"], [0.3333333333333333, \"#9c179e\"], [0.4444444444444444, \"#bd3786\"], [0.5555555555555556, \"#d8576b\"], [0.6666666666666666, \"#ed7953\"], [0.7777777777777778, \"#fb9f3a\"], [0.8888888888888888, \"#fdca26\"], [1.0, \"#f0f921\"]], \"type\": \"histogram2dcontour\"}], \"mesh3d\": [{\"colorbar\": {\"outlinewidth\": 0, \"ticks\": \"\"}, \"type\": \"mesh3d\"}], \"parcoords\": [{\"line\": {\"colorbar\": {\"outlinewidth\": 0, \"ticks\": \"\"}}, \"type\": \"parcoords\"}], \"pie\": [{\"automargin\": true, \"type\": \"pie\"}], \"scatter\": [{\"marker\": {\"colorbar\": {\"outlinewidth\": 0, \"ticks\": \"\"}}, \"type\": \"scatter\"}], \"scatter3d\": [{\"line\": {\"colorbar\": {\"outlinewidth\": 0, \"ticks\": \"\"}}, \"marker\": {\"colorbar\": {\"outlinewidth\": 0, \"ticks\": \"\"}}, \"type\": \"scatter3d\"}], \"scattercarpet\": [{\"marker\": {\"colorbar\": {\"outlinewidth\": 0, \"ticks\": \"\"}}, \"type\": \"scattercarpet\"}], \"scattergeo\": [{\"marker\": {\"colorbar\": {\"outlinewidth\": 0, \"ticks\": \"\"}}, \"type\": \"scattergeo\"}], \"scattergl\": [{\"marker\": {\"colorbar\": {\"outlinewidth\": 0, \"ticks\": \"\"}}, \"type\": \"scattergl\"}], \"scattermapbox\": [{\"marker\": {\"colorbar\": {\"outlinewidth\": 0, \"ticks\": \"\"}}, \"type\": \"scattermapbox\"}], \"scatterpolar\": [{\"marker\": {\"colorbar\": {\"outlinewidth\": 0, \"ticks\": \"\"}}, \"type\": \"scatterpolar\"}], \"scatterpolargl\": [{\"marker\": {\"colorbar\": {\"outlinewidth\": 0, \"ticks\": \"\"}}, \"type\": \"scatterpolargl\"}], \"scatterternary\": [{\"marker\": {\"colorbar\": {\"outlinewidth\": 0, \"ticks\": \"\"}}, \"type\": \"scatterternary\"}], \"surface\": [{\"colorbar\": {\"outlinewidth\": 0, \"ticks\": \"\"}, \"colorscale\": [[0.0, \"#0d0887\"], [0.1111111111111111, \"#46039f\"], [0.2222222222222222, \"#7201a8\"], [0.3333333333333333, \"#9c179e\"], [0.4444444444444444, \"#bd3786\"], [0.5555555555555556, \"#d8576b\"], [0.6666666666666666, \"#ed7953\"], [0.7777777777777778, \"#fb9f3a\"], [0.8888888888888888, \"#fdca26\"], [1.0, \"#f0f921\"]], \"type\": \"surface\"}], \"table\": [{\"cells\": {\"fill\": {\"color\": \"#EBF0F8\"}, \"line\": {\"color\": \"white\"}}, \"header\": {\"fill\": {\"color\": \"#C8D4E3\"}, \"line\": {\"color\": \"white\"}}, \"type\": \"table\"}]}, \"layout\": {\"annotationdefaults\": {\"arrowcolor\": \"#2a3f5f\", \"arrowhead\": 0, \"arrowwidth\": 1}, \"coloraxis\": {\"colorbar\": {\"outlinewidth\": 0, \"ticks\": \"\"}}, \"colorscale\": {\"diverging\": [[0, \"#8e0152\"], [0.1, \"#c51b7d\"], [0.2, \"#de77ae\"], [0.3, \"#f1b6da\"], [0.4, \"#fde0ef\"], [0.5, \"#f7f7f7\"], [0.6, \"#e6f5d0\"], [0.7, \"#b8e186\"], [0.8, \"#7fbc41\"], [0.9, \"#4d9221\"], [1, \"#276419\"]], \"sequential\": [[0.0, \"#0d0887\"], [0.1111111111111111, \"#46039f\"], [0.2222222222222222, \"#7201a8\"], [0.3333333333333333, \"#9c179e\"], [0.4444444444444444, \"#bd3786\"], [0.5555555555555556, \"#d8576b\"], [0.6666666666666666, \"#ed7953\"], [0.7777777777777778, \"#fb9f3a\"], [0.8888888888888888, \"#fdca26\"], [1.0, \"#f0f921\"]], \"sequentialminus\": [[0.0, \"#0d0887\"], [0.1111111111111111, \"#46039f\"], [0.2222222222222222, \"#7201a8\"], [0.3333333333333333, \"#9c179e\"], [0.4444444444444444, \"#bd3786\"], [0.5555555555555556, \"#d8576b\"], [0.6666666666666666, \"#ed7953\"], [0.7777777777777778, \"#fb9f3a\"], [0.8888888888888888, \"#fdca26\"], [1.0, \"#f0f921\"]]}, \"colorway\": [\"#636efa\", \"#EF553B\", \"#00cc96\", \"#ab63fa\", \"#FFA15A\", \"#19d3f3\", \"#FF6692\", \"#B6E880\", \"#FF97FF\", \"#FECB52\"], \"font\": {\"color\": \"#2a3f5f\"}, \"geo\": {\"bgcolor\": \"white\", \"lakecolor\": \"white\", \"landcolor\": \"#E5ECF6\", \"showlakes\": true, \"showland\": true, \"subunitcolor\": \"white\"}, \"hoverlabel\": {\"align\": \"left\"}, \"hovermode\": \"closest\", \"mapbox\": {\"style\": \"light\"}, \"paper_bgcolor\": \"white\", \"plot_bgcolor\": \"#E5ECF6\", \"polar\": {\"angularaxis\": {\"gridcolor\": \"white\", \"linecolor\": \"white\", \"ticks\": \"\"}, \"bgcolor\": \"#E5ECF6\", \"radialaxis\": {\"gridcolor\": \"white\", \"linecolor\": \"white\", \"ticks\": \"\"}}, \"scene\": {\"xaxis\": {\"backgroundcolor\": \"#E5ECF6\", \"gridcolor\": \"white\", \"gridwidth\": 2, \"linecolor\": \"white\", \"showbackground\": true, \"ticks\": \"\", \"zerolinecolor\": \"white\"}, \"yaxis\": {\"backgroundcolor\": \"#E5ECF6\", \"gridcolor\": \"white\", \"gridwidth\": 2, \"linecolor\": \"white\", \"showbackground\": true, \"ticks\": \"\", \"zerolinecolor\": \"white\"}, \"zaxis\": {\"backgroundcolor\": \"#E5ECF6\", \"gridcolor\": \"white\", \"gridwidth\": 2, \"linecolor\": \"white\", \"showbackground\": true, \"ticks\": \"\", \"zerolinecolor\": \"white\"}}, \"shapedefaults\": {\"line\": {\"color\": \"#2a3f5f\"}}, \"ternary\": {\"aaxis\": {\"gridcolor\": \"white\", \"linecolor\": \"white\", \"ticks\": \"\"}, \"baxis\": {\"gridcolor\": \"white\", \"linecolor\": \"white\", \"ticks\": \"\"}, \"bgcolor\": \"#E5ECF6\", \"caxis\": {\"gridcolor\": \"white\", \"linecolor\": \"white\", \"ticks\": \"\"}}, \"title\": {\"x\": 0.05}, \"xaxis\": {\"automargin\": true, \"gridcolor\": \"white\", \"linecolor\": \"white\", \"ticks\": \"\", \"title\": {\"standoff\": 15}, \"zerolinecolor\": \"white\", \"zerolinewidth\": 2}, \"yaxis\": {\"automargin\": true, \"gridcolor\": \"white\", \"linecolor\": \"white\", \"ticks\": \"\", \"title\": {\"standoff\": 15}, \"zerolinecolor\": \"white\", \"zerolinewidth\": 2}}}, \"title\": {\"text\": \"% Hse Units Fiber in NYC\"}},\n",
              "                        {\"responsive\": true}\n",
              "                    ).then(function(){\n",
              "                            \n",
              "var gd = document.getElementById('3a8444cf-b908-4f00-bdab-f77c4edb55bb');\n",
              "var x = new MutationObserver(function (mutations, observer) {{\n",
              "        var display = window.getComputedStyle(gd).display;\n",
              "        if (!display || display === 'none') {{\n",
              "            console.log([gd, 'removed!']);\n",
              "            Plotly.purge(gd);\n",
              "            observer.disconnect();\n",
              "        }}\n",
              "}});\n",
              "\n",
              "// Listen for the removal of the full notebook cells\n",
              "var notebookContainer = gd.closest('#notebook-container');\n",
              "if (notebookContainer) {{\n",
              "    x.observe(notebookContainer, {childList: true});\n",
              "}}\n",
              "\n",
              "// Listen for the clearing of the current output cell\n",
              "var outputEl = gd.closest('.output');\n",
              "if (outputEl) {{\n",
              "    x.observe(outputEl, {childList: true});\n",
              "}}\n",
              "\n",
              "                        })\n",
              "                };\n",
              "                \n",
              "            </script>\n",
              "        </div>\n",
              "</body>\n",
              "</html>"
            ]
          },
          "metadata": {
            "tags": []
          }
        }
      ]
    },
    {
      "cell_type": "code",
      "metadata": {
        "colab": {
          "base_uri": "https://localhost:8080/"
        },
        "id": "j_hzosMYGO0p",
        "outputId": "05d26077-f654-4a70-dc4e-ffc3dfdcb790"
      },
      "source": [
        "pivot_mobile = borough.groupby('Municipality Name') ['% Hse Units Fiber'].value_counts()\n",
        "pivot_mobile"
      ],
      "execution_count": null,
      "outputs": [
        {
          "output_type": "execute_result",
          "data": {
            "text/plain": [
              "Municipality Name      % Hse Units Fiber\n",
              "Bronx borough          medium               1\n",
              "Brooklyn borough       low                  1\n",
              "Manhattan borough      low                  1\n",
              "Queens borough         medium               1\n",
              "Staten Island borough  high                 1\n",
              "Name: % Hse Units Fiber, dtype: int64"
            ]
          },
          "metadata": {
            "tags": []
          },
          "execution_count": 131
        }
      ]
    }
  ]
}